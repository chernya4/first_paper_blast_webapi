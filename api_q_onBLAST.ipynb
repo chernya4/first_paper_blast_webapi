{
 "cells": [
  {
   "cell_type": "code",
   "execution_count": 1,
   "id": "2110c3d0",
   "metadata": {},
   "outputs": [],
   "source": [
    "from urllib.request import urlopen\n",
    "import json\n",
    "import pandas as pd\n",
    "import re\n",
    "from collections import defaultdict"
   ]
  },
  {
   "cell_type": "markdown",
   "id": "48422e6d",
   "metadata": {},
   "source": [
    "## Function that allows us to automate calls to the API so that we can extract data fro Large Data Sets ##\n"
   ]
  },
  {
   "cell_type": "code",
   "execution_count": null,
   "id": "043b5e41",
   "metadata": {},
   "outputs": [],
   "source": [
    "def get_blast_info(sn_name):\n",
    "    \"\"\"\n",
    "    Fetch information for a supernova/transient from the BLAST API.\n",
    "\n",
    "    Parameters\n",
    "    ----------\n",
    "    sn_name : str\n",
    "        The supernova/transient name (e.g. \"2004ef\").\n",
    "\n",
    "    Returns\n",
    "    -------\n",
    "    tuple\n",
    "        (row_dict, missing_name_or_None)\n",
    "        - On success: (dict of BLAST fields, None)\n",
    "        - On failure: ({}, sn_name)\n",
    "    \"\"\"\n",
    "\n",
    "    url = f\"https://blast.ncsa.illinois.edu/api/transient/get/{sn_name}?format=json\"\n",
    "    try:\n",
    "        with urlopen(url) as r:\n",
    "            payload = json.loads(r.read())\n",
    "    \n",
    "    ## The following catches any Python Exception that happened within the \"try\" block.\n",
    "    ## Error object gets stored as the variable e.\n",
    "    ## Also keeps track of missing supernova names. Upon exceptions being thrown, ends up returning just\n",
    "    ## the string that is the SNIa name. \n",
    "    except Exception as e:\n",
    "        print(f\"Error fetching {sn_name}: {e}\")\n",
    "        return {}, sn_name\n",
    "\n",
    "    row = {\n",
    "        \"blast_transient_spectroscopic_class\": (payload.get(\"transient_spectroscopic_class\") or \"\").strip(),\n",
    "        \"blast_transient_photometric_class\": (payload.get(\"transient_photometric_class\") or \"\").strip(),\n",
    "        \n",
    "        \"blast_host_name\": payload.get(\"host_name\"),\n",
    "        \"blast_host_ra_deg\": payload.get(\"host_ra_deg\"),\n",
    "        \"blast_host_dec_deg\": payload.get(\"host_dec_deg\"),\n",
    "        \"blast_host_redshift\": payload.get(\"host_redshift\"),\n",
    "        \"blast_host_EBV_MW\": payload.get(\"host_milkyway_dust_reddening\"),\n",
    "\n",
    "        # Local SED\n",
    "        \"blast_local_log_mass_50\": payload.get(\"local_aperture_host_log_mass_50\"),\n",
    "        \"blast_local_log_sfr_50\": payload.get(\"local_aperture_host_log_sfr_50\"),\n",
    "        \"blast_local_log_ssfr_50\": payload.get(\"local_aperture_host_log_ssfr_50\"),\n",
    "        \"blast_local_log_age_50\": payload.get(\"local_aperture_host_log_age_50\"),\n",
    "        \"blast_local_mass_surviving_ratio\": payload.get(\"local_aperture_host_mass_surviving_ratio\"),\n",
    "\n",
    "        # Global SED\n",
    "        \"blast_global_log_mass_50\": payload.get(\"global_aperture_host_log_mass_50\"),\n",
    "        \"blast_global_log_sfr_50\": payload.get(\"global_aperture_host_log_sfr_50\"),\n",
    "        \"blast_global_log_ssfr_50\": payload.get(\"global_aperture_host_log_ssfr_50\"),\n",
    "        \"blast_global_log_age_50\": payload.get(\"global_aperture_host_log_age_50\"),\n",
    "        \"blast_global_mass_surviving_ratio\": payload.get(\"global_aperture_host_mass_surviving_ratio\"),\n",
    "    }\n",
    "    return row, None"
   ]
  },
  {
   "cell_type": "code",
   "execution_count": null,
   "id": "9ca933b9",
   "metadata": {},
   "outputs": [],
   "source": [
    "# Load your CSV \n",
    "csv_path = \"des_sample_SNIa.csv\"\n",
    "df = pd.read_csv(csv_path)\n",
    "\n",
    "# Collect BLAST info\n",
    "blast_rows = []\n",
    "missing_from_blast = []\n",
    "\n",
    "for sn in df[\"CID\"]:   # or df[\"SNID\"]\n",
    "    row, missing = get_blast_info(sn)\n",
    "    blast_rows.append(row)\n",
    "    if missing:   # missing is sn_name or None\n",
    "        missing_from_blast.append(missing)\n",
    "\n",
    "# Merge results back into DataFrame\n",
    "blast_df = pd.DataFrame(blast_rows)\n",
    "df = pd.concat([df, blast_df], axis=1)\n",
    "\n",
    "# Save to new file\n",
    "df.to_csv(\"explore_webapi_with_blast.csv\", index=False)\n",
    "\n",
    "print(\"Failed lookups:\", missing_from_blast)"
   ]
  }
 ],
 "metadata": {
  "kernelspec": {
   "display_name": "ds2",
   "language": "python",
   "name": "python3"
  },
  "language_info": {
   "codemirror_mode": {
    "name": "ipython",
    "version": 3
   },
   "file_extension": ".py",
   "mimetype": "text/x-python",
   "name": "python",
   "nbconvert_exporter": "python",
   "pygments_lexer": "ipython3",
   "version": "3.11.12"
  }
 },
 "nbformat": 4,
 "nbformat_minor": 5
}
